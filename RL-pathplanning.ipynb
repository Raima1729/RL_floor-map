{
 "cells": [
  {
   "cell_type": "code",
   "execution_count": 1,
   "metadata": {},
   "outputs": [],
   "source": [
    "import numpy as np"
   ]
  },
  {
   "cell_type": "code",
   "execution_count": 2,
   "metadata": {},
   "outputs": [],
   "source": [
    "gamma = 0.8 # Discount factor \n",
    "alpha = 0.9 # Learning rate"
   ]
  },
  {
   "cell_type": "code",
   "execution_count": 3,
   "metadata": {},
   "outputs": [],
   "source": [
    "# States\n",
    "location_to_state = {\n",
    "    'L1' : 0,\n",
    "    'L2' : 1,\n",
    "    'L3' : 2,\n",
    "    'L4' : 3,\n",
    "    'L5' : 4,\n",
    "    'L6' : 5,\n",
    "    'L7' : 6,\n",
    "    'L8' : 7,\n",
    "    'L9' : 8\n",
    "}"
   ]
  },
  {
   "cell_type": "code",
   "execution_count": 4,
   "metadata": {},
   "outputs": [],
   "source": [
    "# Define the actions. Actions are the same as next state so this variable is useless.\n",
    "#Still kept for matching theory and concept\n",
    "actions = [0,1,2,3,4,5,6,7,8]"
   ]
  },
  {
   "cell_type": "code",
   "execution_count": 5,
   "metadata": {},
   "outputs": [],
   "source": [
    "# Define the rewards\n",
    "rewards = np.array([[0,1,0,0,0,0,0,0,0],\n",
    "              [1,0,1,0,0,0,0,0,0],\n",
    "              [0,1,0,0,0,1,0,0,0],\n",
    "              [0,0,0,0,0,0,1,0,0],\n",
    "              [0,1,0,0,0,0,0,1,0],\n",
    "              [0,0,1,0,0,0,0,0,0],\n",
    "              [0,0,0,1,0,0,0,1,0],\n",
    "              [0,0,0,0,1,0,1,0,1],\n",
    "              [0,0,0,0,0,0,0,1,0]])"
   ]
  },
  {
   "cell_type": "code",
   "execution_count": 6,
   "metadata": {},
   "outputs": [],
   "source": [
    "# Maps indices to locations\n",
    "state_to_location = dict((state,location) for location,state in location_to_state.items())"
   ]
  },
  {
   "cell_type": "code",
   "execution_count": 7,
   "metadata": {},
   "outputs": [],
   "source": [
    "def get_optimal_route(start_location,end_location):\n",
    "    rewards_copy = np.copy(rewards)\n",
    "    ending_state = location_to_state[end_location]\n",
    "    rewards_copy[ending_state,ending_state] = 999\n",
    "\n",
    "    Q = np.array(np.zeros([9,9]))\n",
    "\n",
    "    # Q-Learning process\n",
    "    for i in range(1000):\n",
    "        current_state = np.random.randint(0,9)\n",
    "        playable_actions = []\n",
    "        # Iterate through the new rewards matrix and get the actions > 0\n",
    "        for j in range(9):\n",
    "            if rewards_copy[current_state,j] > 0:   #whether the value in rewards table is 1 or 999 (anything but 0)\n",
    "                playable_actions.append(j)\n",
    "        # Pick an action randomly from the list of playable actions leading us to the next state\n",
    "        next_state = np.random.choice(playable_actions)\n",
    "\n",
    "        # The action here exactly refers to going to the next state\n",
    "        #argmax gives the index of the greatest number in a given row or column\n",
    "        TD = rewards_copy[current_state,next_state] + gamma * Q[next_state, np.argmax(Q[next_state,])] - Q[current_state,next_state]\n",
    "        # Update the Q-Value using the Bellman equation\n",
    "        Q[current_state,next_state] += alpha * TD\n",
    "    print(\"The Q value table (9x9) is \\n\", Q)\n",
    "    # Initialize the optimal route with the starting location\n",
    "    route = [start_location]\n",
    "    # We do not know about the next location yet, so initialize with the value of starting location\n",
    "    next_location = start_location\n",
    "    \n",
    "    # We don't know about the exact number of iterations needed to reach to the final location hence \n",
    "    #while loop will be a good choice for iterating\n",
    "    while(next_location != end_location):\n",
    "        # Fetch the starting state\n",
    "        starting_state = location_to_state[start_location]\n",
    "        # Fetch the highest Q-value pertaining to starting state\n",
    "        next_state = np.argmax(Q[starting_state,])\n",
    "        # We got the index of the next state. But we need the corresponding letter. \n",
    "        next_location = state_to_location[next_state]\n",
    "        route.append(next_location)\n",
    "        # Update the starting location for the next iteration\n",
    "        start_location = next_location\n",
    "    \n",
    "    return route"
   ]
  },
  {
   "cell_type": "code",
   "execution_count": 12,
   "metadata": {},
   "outputs": [
    {
     "name": "stdout",
     "output_type": "stream",
     "text": [
      "The Q value table (9x9) is \n",
      " [[   0.         2559.86175687    0.            0.            0.\n",
      "     0.            0.            0.            0.        ]\n",
      " [2048.88056708    0.         3198.5771961     0.            0.\n",
      "     0.            0.            0.            0.        ]\n",
      " [   0.         2559.86064498    0.            0.            0.\n",
      "  3996.99146177    0.            0.            0.        ]\n",
      " [   0.            0.            0.            0.            0.\n",
      "     0.         1313.08825648    0.            0.        ]\n",
      " [   0.         2559.86166738    0.            0.            0.\n",
      "     0.            0.         1640.11024277    0.        ]\n",
      " [   0.            0.         3198.57705872    0.            0.\n",
      "  4994.98976397    0.            0.            0.        ]\n",
      " [   0.            0.            0.         1051.4555676     0.\n",
      "     0.            0.         1640.11042106    0.        ]\n",
      " [   0.            0.            0.            0.         2048.88932193\n",
      "     0.         1313.08450891    0.         1313.08824947]\n",
      " [   0.            0.            0.            0.            0.\n",
      "     0.            0.         1640.11127381    0.        ]]\n"
     ]
    }
   ],
   "source": [
    "path = get_optimal_route('L4', 'L6')"
   ]
  },
  {
   "cell_type": "code",
   "execution_count": 13,
   "metadata": {},
   "outputs": [],
   "source": [
    "f = open('output.txt','w')"
   ]
  },
  {
   "cell_type": "code",
   "execution_count": 14,
   "metadata": {},
   "outputs": [],
   "source": [
    "for ele in path:\n",
    "    f.write(ele + '\\n')"
   ]
  },
  {
   "cell_type": "code",
   "execution_count": 15,
   "metadata": {},
   "outputs": [],
   "source": [
    "f.close()"
   ]
  },
  {
   "cell_type": "code",
   "execution_count": null,
   "metadata": {},
   "outputs": [],
   "source": []
  }
 ],
 "metadata": {
  "kernelspec": {
   "display_name": "Python 3",
   "language": "python",
   "name": "python3"
  },
  "language_info": {
   "codemirror_mode": {
    "name": "ipython",
    "version": 3
   },
   "file_extension": ".py",
   "mimetype": "text/x-python",
   "name": "python",
   "nbconvert_exporter": "python",
   "pygments_lexer": "ipython3",
   "version": "3.7.3"
  }
 },
 "nbformat": 4,
 "nbformat_minor": 2
}
